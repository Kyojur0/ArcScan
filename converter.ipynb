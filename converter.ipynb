{
 "cells": [
  {
   "cell_type": "code",
   "execution_count": null,
   "metadata": {},
   "outputs": [],
   "source": [
    "!pip3 install numpy-stl"
   ]
  },
  {
   "cell_type": "code",
   "execution_count": null,
   "metadata": {},
   "outputs": [],
   "source": [
    "from PIL import Image\n",
    "import matplotlib.pyplot as plt\n",
    "img = Image.open(\"chiri.jpg\")\n",
    "plt.imshow(img)"
   ]
  },
  {
   "cell_type": "code",
   "execution_count": null,
   "metadata": {},
   "outputs": [],
   "source": [
    "grey_img = Image.open('chiri.jpg').convert('L')\n",
    "plt.imshow(grey_img)"
   ]
  },
  {
   "cell_type": "code",
   "execution_count": null,
   "metadata": {},
   "outputs": [],
   "source": [
    "import numpy as np\n",
    "from stl import mesh\n",
    "\n",
    "grey_img = Image.open('chiri.jpg').convert('L')\n",
    "\n",
    "max_size=(500,500)\n",
    "max_height=10\n",
    "min_height=0\n",
    "\n",
    "#height=0 for minPix\n",
    "#height=maxHeight for maxPIx\n",
    "\n",
    "grey_img.thumbnail(max_size)\n",
    "imageNp = np.array(grey_img)\n",
    "maxPix=imageNp.max()\n",
    "minPix=imageNp.min()\n",
    "\n",
    "\n",
    "\n",
    "print(imageNp)\n",
    "(ncols,nrows)=grey_img.size\n",
    "\n",
    "vertices=np.zeros((nrows,ncols,3))\n",
    "\n",
    "for x in range(0, ncols):\n",
    "  for y in range(0, nrows):\n",
    "    pixelIntensity = imageNp[y][x]\n",
    "    z = (pixelIntensity * max_height) / maxPix\n",
    "    #print(imageNp[y][x])\n",
    "    vertices[y][x]=(x, y, z)\n",
    "\n",
    "faces=[]\n",
    "\n",
    "for x in range(0, ncols - 1):\n",
    "  for y in range(0, nrows - 1):\n",
    "    # create face 1\n",
    "    vertice1 = vertices[y][x]\n",
    "    vertice2 = vertices[y+1][x]\n",
    "    vertice3 = vertices[y+1][x+1]\n",
    "    face1 = np.array([vertice1,vertice2,vertice3])\n",
    "\n",
    "    # create face 2 \n",
    "    vertice1 = vertices[y][x]\n",
    "    vertice2 = vertices[y][x+1]\n",
    "    vertice3 = vertices[y+1][x+1]\n",
    "\n",
    "    face2 = np.array([vertice1,vertice2,vertice3])\n",
    "\n",
    "    faces.append(face1)\n",
    "    faces.append(face2)\n",
    "\n",
    "print(f\"number of faces: {len(faces)}\")\n",
    "facesNp = np.array(faces)\n",
    "# Create the mesh\n",
    "surface = mesh.Mesh(np.zeros(facesNp.shape[0], dtype=mesh.Mesh.dtype))\n",
    "for i, f in enumerate(faces):\n",
    "    for j in range(3):\n",
    "        surface.vectors[i][j] = facesNp[i][j]\n",
    "# Write the mesh to file \"cube.stl\"\n",
    "surface.save('chiri.stl')\n",
    "print(surface)"
   ]
  }
 ],
 "metadata": {
  "kernelspec": {
   "display_name": "test",
   "language": "python",
   "name": "python3"
  },
  "language_info": {
   "codemirror_mode": {
    "name": "ipython",
    "version": 3
   },
   "file_extension": ".py",
   "mimetype": "text/x-python",
   "name": "python",
   "nbconvert_exporter": "python",
   "pygments_lexer": "ipython3",
   "version": "3.11.3"
  },
  "orig_nbformat": 4
 },
 "nbformat": 4,
 "nbformat_minor": 2
}
